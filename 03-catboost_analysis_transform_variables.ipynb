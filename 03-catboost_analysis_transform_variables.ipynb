{
 "cells": [
  {
   "cell_type": "markdown",
   "id": "fd9c04cf",
   "metadata": {},
   "source": [
    "# Libraries and versions"
   ]
  },
  {
   "cell_type": "code",
   "execution_count": 19,
   "id": "4e6f0aca",
   "metadata": {},
   "outputs": [],
   "source": [
    "#Basic libraries\n",
    "python_version = !python -V #version 3.7.9\n",
    "import pandas as pd #version 1.2.4\n",
    "import numpy as np #version 1.20.1\n",
    "import seaborn as sns #version 0.11.0\n",
    "import matplotlib as plt #version 3.3.3\n",
    "\n",
    "#for analyse multiple features\n",
    "from sklearn import __version__ as skn #version 0.24.1\n",
    "from sklearn.model_selection import train_test_split\n",
    "from sklearn.metrics import accuracy_score\n",
    "from sklearn.manifold import TSNE\n",
    "\n",
    "#for model classifier\n",
    "from catboost import __version__ as ct #0.25.1\n",
    "from catboost import CatBoostClassifier, Pool\n",
    "\n",
    "import plotly.express as px"
   ]
  },
  {
   "cell_type": "code",
   "execution_count": 21,
   "id": "e60cba12",
   "metadata": {},
   "outputs": [
    {
     "name": "stdout",
     "output_type": "stream",
     "text": [
      "Python version - 3.7.9\n",
      "Pandas version - 1.2.4\n",
      "Numpy version - 1.20.1\n",
      "Seaborn version - 0.11.0\n",
      "Sklearn version - 0.24.1\n",
      "CatBoost version - 0.25.1\n",
      "Matplotlib version - 3.3.3\n"
     ]
    }
   ],
   "source": [
    "print(f'Python version - {python_version[0][7:]}')\n",
    "print(f'Pandas version - {pd.__version__}')\n",
    "print(f'Numpy version - {np.__version__}')\n",
    "print(f'Seaborn version - {sns.__version__}')\n",
    "print(f'Sklearn version - {skn}')\n",
    "print(f'CatBoost version - {ct}')\n",
    "print(f'Matplotlib version - {plt.__version__}')"
   ]
  },
  {
   "cell_type": "markdown",
   "id": "3811e9c2",
   "metadata": {},
   "source": [
    "# Configurations"
   ]
  },
  {
   "cell_type": "markdown",
   "id": "f7ef3534",
   "metadata": {},
   "source": [
    "## Seaborn"
   ]
  },
  {
   "cell_type": "code",
   "execution_count": 4,
   "id": "5caeff52",
   "metadata": {},
   "outputs": [],
   "source": [
    "sns.set_palette('Set1')\n",
    "sns.set_style('darkgrid')\n",
    "\n",
    "def configuration(graphic_object, title=None, xlabel=None, ylabel=None, colors='black'):\n",
    "    graphic_object.figure.set_size_inches(15,8)\n",
    "    graphic_object.set_title(title, color=colors, fontsize=16)\n",
    "    graphic_object.set_xlabel(xlabel, color=colors, fontsize=14)\n",
    "    graphic_object.set_ylabel(ylabel, color=colors, fontsize=14)\n",
    "    graphic_object = graphic_object"
   ]
  },
  {
   "cell_type": "markdown",
   "id": "ac8f20b9",
   "metadata": {},
   "source": [
    "## Warning"
   ]
  },
  {
   "cell_type": "code",
   "execution_count": 5,
   "id": "ab88a1e8",
   "metadata": {},
   "outputs": [],
   "source": [
    "import warnings\n",
    "warnings.filterwarnings(\"ignore\")"
   ]
  },
  {
   "cell_type": "markdown",
   "id": "5071960e",
   "metadata": {},
   "source": [
    "# Dataset"
   ]
  },
  {
   "cell_type": "code",
   "execution_count": 6,
   "id": "f8bbb7c9",
   "metadata": {},
   "outputs": [
    {
     "data": {
      "text/html": [
       "<div>\n",
       "<style scoped>\n",
       "    .dataframe tbody tr th:only-of-type {\n",
       "        vertical-align: middle;\n",
       "    }\n",
       "\n",
       "    .dataframe tbody tr th {\n",
       "        vertical-align: top;\n",
       "    }\n",
       "\n",
       "    .dataframe thead th {\n",
       "        text-align: right;\n",
       "    }\n",
       "</style>\n",
       "<table border=\"1\" class=\"dataframe\">\n",
       "  <thead>\n",
       "    <tr style=\"text-align: right;\">\n",
       "      <th></th>\n",
       "      <th>Net Income to Total Assets</th>\n",
       "      <th>Net worth/Assets</th>\n",
       "      <th>Persistent EPS in the Last Four Seasons</th>\n",
       "      <th>Retained Earnings to Total Assets</th>\n",
       "      <th>Net profit before tax/Paid-in capital</th>\n",
       "      <th>Per Share Net profit before tax (Yuan ¥)</th>\n",
       "      <th>Working Capital to Total Assets</th>\n",
       "      <th>Net Income to Stockholder's Equity</th>\n",
       "      <th>Net Value Per Share (A)</th>\n",
       "      <th>CFO to Assets</th>\n",
       "      <th>Cash/Total Assets</th>\n",
       "      <th>Gross Profit to Sales</th>\n",
       "      <th>Equity to Long-term Liability</th>\n",
       "      <th>Current Liability to Equity</th>\n",
       "      <th>Current Liability to Current Assets</th>\n",
       "      <th>Borrowing dependency</th>\n",
       "      <th>Current Liability to Assets</th>\n",
       "      <th>Debt ratio %</th>\n",
       "      <th>Bankrupt</th>\n",
       "    </tr>\n",
       "  </thead>\n",
       "  <tbody>\n",
       "    <tr>\n",
       "      <th>0</th>\n",
       "      <td>0.716845</td>\n",
       "      <td>0.792424</td>\n",
       "      <td>0.169141</td>\n",
       "      <td>0.903225</td>\n",
       "      <td>0.137757</td>\n",
       "      <td>0.138736</td>\n",
       "      <td>0.672775</td>\n",
       "      <td>0.827890</td>\n",
       "      <td>0.147950</td>\n",
       "      <td>0.520382</td>\n",
       "      <td>0.004094</td>\n",
       "      <td>0.601453</td>\n",
       "      <td>0.126549</td>\n",
       "      <td>0.339077</td>\n",
       "      <td>0.118250</td>\n",
       "      <td>0.390284</td>\n",
       "      <td>0.147308</td>\n",
       "      <td>0.207576</td>\n",
       "      <td>1</td>\n",
       "    </tr>\n",
       "    <tr>\n",
       "      <th>1</th>\n",
       "      <td>0.795297</td>\n",
       "      <td>0.828824</td>\n",
       "      <td>0.208944</td>\n",
       "      <td>0.931065</td>\n",
       "      <td>0.168962</td>\n",
       "      <td>0.169918</td>\n",
       "      <td>0.751111</td>\n",
       "      <td>0.839969</td>\n",
       "      <td>0.182251</td>\n",
       "      <td>0.567101</td>\n",
       "      <td>0.014948</td>\n",
       "      <td>0.610237</td>\n",
       "      <td>0.120916</td>\n",
       "      <td>0.329740</td>\n",
       "      <td>0.047775</td>\n",
       "      <td>0.376760</td>\n",
       "      <td>0.056963</td>\n",
       "      <td>0.171176</td>\n",
       "      <td>1</td>\n",
       "    </tr>\n",
       "    <tr>\n",
       "      <th>2</th>\n",
       "      <td>0.774670</td>\n",
       "      <td>0.792484</td>\n",
       "      <td>0.180581</td>\n",
       "      <td>0.909903</td>\n",
       "      <td>0.148036</td>\n",
       "      <td>0.142803</td>\n",
       "      <td>0.829502</td>\n",
       "      <td>0.836774</td>\n",
       "      <td>0.177911</td>\n",
       "      <td>0.538491</td>\n",
       "      <td>0.000991</td>\n",
       "      <td>0.601449</td>\n",
       "      <td>0.117922</td>\n",
       "      <td>0.334777</td>\n",
       "      <td>0.025346</td>\n",
       "      <td>0.379093</td>\n",
       "      <td>0.098162</td>\n",
       "      <td>0.207516</td>\n",
       "      <td>1</td>\n",
       "    </tr>\n",
       "    <tr>\n",
       "      <th>3</th>\n",
       "      <td>0.739555</td>\n",
       "      <td>0.848535</td>\n",
       "      <td>0.193722</td>\n",
       "      <td>0.906902</td>\n",
       "      <td>0.147561</td>\n",
       "      <td>0.148603</td>\n",
       "      <td>0.725754</td>\n",
       "      <td>0.834697</td>\n",
       "      <td>0.154187</td>\n",
       "      <td>0.604105</td>\n",
       "      <td>0.018851</td>\n",
       "      <td>0.583538</td>\n",
       "      <td>0.120760</td>\n",
       "      <td>0.331509</td>\n",
       "      <td>0.067250</td>\n",
       "      <td>0.379743</td>\n",
       "      <td>0.098715</td>\n",
       "      <td>0.151465</td>\n",
       "      <td>1</td>\n",
       "    </tr>\n",
       "    <tr>\n",
       "      <th>4</th>\n",
       "      <td>0.795016</td>\n",
       "      <td>0.893491</td>\n",
       "      <td>0.212537</td>\n",
       "      <td>0.913850</td>\n",
       "      <td>0.167461</td>\n",
       "      <td>0.168412</td>\n",
       "      <td>0.751822</td>\n",
       "      <td>0.839973</td>\n",
       "      <td>0.167502</td>\n",
       "      <td>0.578469</td>\n",
       "      <td>0.014161</td>\n",
       "      <td>0.598782</td>\n",
       "      <td>0.110933</td>\n",
       "      <td>0.330726</td>\n",
       "      <td>0.047725</td>\n",
       "      <td>0.375025</td>\n",
       "      <td>0.110195</td>\n",
       "      <td>0.106509</td>\n",
       "      <td>1</td>\n",
       "    </tr>\n",
       "  </tbody>\n",
       "</table>\n",
       "</div>"
      ],
      "text/plain": [
       "   Net Income to Total Assets  Net worth/Assets  \\\n",
       "0                    0.716845          0.792424   \n",
       "1                    0.795297          0.828824   \n",
       "2                    0.774670          0.792484   \n",
       "3                    0.739555          0.848535   \n",
       "4                    0.795016          0.893491   \n",
       "\n",
       "   Persistent EPS in the Last Four Seasons  Retained Earnings to Total Assets  \\\n",
       "0                                 0.169141                           0.903225   \n",
       "1                                 0.208944                           0.931065   \n",
       "2                                 0.180581                           0.909903   \n",
       "3                                 0.193722                           0.906902   \n",
       "4                                 0.212537                           0.913850   \n",
       "\n",
       "   Net profit before tax/Paid-in capital  \\\n",
       "0                               0.137757   \n",
       "1                               0.168962   \n",
       "2                               0.148036   \n",
       "3                               0.147561   \n",
       "4                               0.167461   \n",
       "\n",
       "   Per Share Net profit before tax (Yuan ¥)  Working Capital to Total Assets  \\\n",
       "0                                  0.138736                         0.672775   \n",
       "1                                  0.169918                         0.751111   \n",
       "2                                  0.142803                         0.829502   \n",
       "3                                  0.148603                         0.725754   \n",
       "4                                  0.168412                         0.751822   \n",
       "\n",
       "   Net Income to Stockholder's Equity  Net Value Per Share (A)  CFO to Assets  \\\n",
       "0                            0.827890                 0.147950       0.520382   \n",
       "1                            0.839969                 0.182251       0.567101   \n",
       "2                            0.836774                 0.177911       0.538491   \n",
       "3                            0.834697                 0.154187       0.604105   \n",
       "4                            0.839973                 0.167502       0.578469   \n",
       "\n",
       "   Cash/Total Assets  Gross Profit to Sales  Equity to Long-term Liability  \\\n",
       "0           0.004094               0.601453                       0.126549   \n",
       "1           0.014948               0.610237                       0.120916   \n",
       "2           0.000991               0.601449                       0.117922   \n",
       "3           0.018851               0.583538                       0.120760   \n",
       "4           0.014161               0.598782                       0.110933   \n",
       "\n",
       "   Current Liability to Equity  Current Liability to Current Assets  \\\n",
       "0                     0.339077                             0.118250   \n",
       "1                     0.329740                             0.047775   \n",
       "2                     0.334777                             0.025346   \n",
       "3                     0.331509                             0.067250   \n",
       "4                     0.330726                             0.047725   \n",
       "\n",
       "   Borrowing dependency  Current Liability to Assets  Debt ratio %  Bankrupt  \n",
       "0              0.390284                     0.147308      0.207576         1  \n",
       "1              0.376760                     0.056963      0.171176         1  \n",
       "2              0.379093                     0.098162      0.207516         1  \n",
       "3              0.379743                     0.098715      0.151465         1  \n",
       "4              0.375025                     0.110195      0.106509         1  "
      ]
     },
     "execution_count": 6,
     "metadata": {},
     "output_type": "execute_result"
    }
   ],
   "source": [
    "dataset = pd.read_csv('18_feature_selected.csv')\n",
    "dataset.head()"
   ]
  },
  {
   "cell_type": "markdown",
   "id": "2632f69b",
   "metadata": {},
   "source": [
    "## Select features"
   ]
  },
  {
   "cell_type": "code",
   "execution_count": 7,
   "id": "33177897",
   "metadata": {},
   "outputs": [
    {
     "data": {
      "text/plain": [
       "(6819, 19)"
      ]
     },
     "execution_count": 7,
     "metadata": {},
     "output_type": "execute_result"
    }
   ],
   "source": [
    "# total len of dataset\n",
    "dataset.shape"
   ]
  },
  {
   "cell_type": "markdown",
   "id": "4ac991a3",
   "metadata": {},
   "source": [
    "### X and y"
   ]
  },
  {
   "cell_type": "code",
   "execution_count": 8,
   "id": "8948297a",
   "metadata": {},
   "outputs": [
    {
     "name": "stdout",
     "output_type": "stream",
     "text": [
      "Number of features for X = 18\n"
     ]
    }
   ],
   "source": [
    "X = dataset.drop(columns=['Bankrupt'])\n",
    "y = dataset['Bankrupt']\n",
    "\n",
    "print(f'Number of features for X = {X.shape[1]}')"
   ]
  },
  {
   "cell_type": "markdown",
   "id": "8e1c6b96",
   "metadata": {},
   "source": [
    "## CatBoostClassifier"
   ]
  },
  {
   "cell_type": "code",
   "execution_count": 11,
   "id": "7bbf63b6",
   "metadata": {},
   "outputs": [
    {
     "name": "stdout",
     "output_type": "stream",
     "text": [
      "Total Accuracy - 97.07\n",
      "Banrupt correct predicted - 10\n",
      "Bankrupt Score - 22.73\n"
     ]
    }
   ],
   "source": [
    "#split data in train and test with different X\n",
    "X_train, X_test, y_train, y_test = train_test_split(X, y, stratify=y, train_size=0.8, random_state=666)\n",
    "\n",
    "#intance model\n",
    "cbc = CatBoostClassifier()\n",
    "\n",
    "#train model\n",
    "cbc.fit(X_train, y_train, silent=True)\n",
    "y_predict = cbc.predict(X_test)\n",
    "\n",
    "#check accuracy\n",
    "total_accuracy = accuracy_score(y_test, y_predict) * 100\n",
    "\n",
    "#create a DataFrame to count correct value predict for 1 in y_predict\n",
    "results = {'Test':y_test, 'Predict':y_predict}\n",
    "results = pd.DataFrame(results)\n",
    "results['OK'] = results['Test'] == results['Predict']\n",
    "bankrupt_accuracy = results.query('Predict==1 & OK==True').shape[0]\n",
    "bankrupt_total = results['Test'].sum()\n",
    "bankrupt_score = bankrupt_accuracy / bankrupt_total * 100\n",
    "\n",
    "#see results\n",
    "print(f'Total Accuracy - {total_accuracy:.2f}\\nBanrupt correct predicted - {bankrupt_accuracy}')\n",
    "print(f'Bankrupt Score - {bankrupt_score:.2f}')"
   ]
  },
  {
   "cell_type": "markdown",
   "id": "37b338a2",
   "metadata": {},
   "source": [
    "## Analyse error"
   ]
  },
  {
   "cell_type": "markdown",
   "id": "9d82920e",
   "metadata": {},
   "source": [
    "#### Create a new dataframe with test, predicted and check columns"
   ]
  },
  {
   "cell_type": "code",
   "execution_count": null,
   "id": "0c8586a3",
   "metadata": {},
   "outputs": [],
   "source": [
    "X_test['y_test'] = y_test\n",
    "X_test['y_predict'] = y_predict\n",
    "X_test['check'] = y_test == y_predict\n",
    "df_analysis = X_test.copy()\n",
    "\n",
    "df_analysis.shape"
   ]
  },
  {
   "cell_type": "markdown",
   "id": "b8553bed",
   "metadata": {},
   "source": [
    "#### Create an TSNE object for 18 variables"
   ]
  },
  {
   "cell_type": "code",
   "execution_count": null,
   "id": "488c5bd4",
   "metadata": {},
   "outputs": [],
   "source": [
    "tsne = TSNE(n_components=2)\n",
    "X_tsne = df_analysis.drop(columns=['y_test', 'y_predict', 'check'])#exclude target variables\n",
    "X_tsne = tsne.fit_transform(X_tsne)"
   ]
  },
  {
   "cell_type": "code",
   "execution_count": null,
   "id": "1b2a4575",
   "metadata": {},
   "outputs": [],
   "source": [
    "graphic1 = sns.scatterplot(x=X_tsne[:,0], y=X_tsne[:,1], hue=df_analysis['y_predict'])\n",
    "configuration(graphic1, title='TSNE with predicted values')"
   ]
  },
  {
   "cell_type": "code",
   "execution_count": null,
   "id": "a6799dc3",
   "metadata": {},
   "outputs": [],
   "source": [
    "graphic2 = sns.scatterplot(x=X_tsne[:,0], y=X_tsne[:,1], hue=df_analysis['y_test'])\n",
    "configuration(graphic2, title='TSNE with test values')"
   ]
  },
  {
   "cell_type": "code",
   "execution_count": null,
   "id": "752101fd",
   "metadata": {},
   "outputs": [],
   "source": [
    "graphic3 = sns.scatterplot(x=X_tsne[:,0], y=X_tsne[:,1], hue=df_analysis['check'])\n",
    "configuration(graphic3, title='TSNE with incorrect classification')"
   ]
  },
  {
   "cell_type": "markdown",
   "id": "4554ca7f",
   "metadata": {},
   "source": [
    "### 3D visualization"
   ]
  },
  {
   "cell_type": "code",
   "execution_count": null,
   "id": "a6177446",
   "metadata": {},
   "outputs": [],
   "source": [
    "fig = px.scatter_3d(x=X_tsne[:,0], y=X_tsne[:,1], z=df_analysis['y_test'], color=df_analysis['y_predict'])\n",
    "fig.show()"
   ]
  },
  {
   "cell_type": "markdown",
   "id": "15cd5e12",
   "metadata": {},
   "source": [
    "## Maximize differences between 1 and 0"
   ]
  },
  {
   "cell_type": "markdown",
   "id": "e44fed11",
   "metadata": {},
   "source": [
    "#### Fist attempt"
   ]
  },
  {
   "cell_type": "markdown",
   "id": "5223063d",
   "metadata": {},
   "source": [
    "- I will create a new variable with quantile positions (0.25, 0.50, 0.75) using the best variable choosen by CatBoost"
   ]
  },
  {
   "cell_type": "code",
   "execution_count": null,
   "id": "78e160d9",
   "metadata": {},
   "outputs": [],
   "source": [
    "quantile_list = []\n",
    "for value in dataset['Persistent EPS in the Last Four Seasons']:\n",
    "    if value >= dataset['Persistent EPS in the Last Four Seasons'].quantile(0.75):\n",
    "        quantile_list.append(4)\n",
    "    elif value >= dataset['Persistent EPS in the Last Four Seasons'].quantile(0.5):\n",
    "        quantile_list.append(3)\n",
    "    elif value >= dataset['Persistent EPS in the Last Four Seasons'].quantile(0.25):\n",
    "        quantile_list.append(2)\n",
    "    else:\n",
    "        quantile_list.append(1)\n",
    "dataset['Q - Persistent EPS in the Last Four Seasons'] = quantile_list"
   ]
  },
  {
   "cell_type": "code",
   "execution_count": null,
   "id": "4ad3b9a1",
   "metadata": {},
   "outputs": [],
   "source": [
    "dataset.query('Bankrupt==0')['Q - Persistent EPS in the Last Four Seasons'].value_counts(normalize=True)"
   ]
  },
  {
   "cell_type": "code",
   "execution_count": null,
   "id": "34f8e895",
   "metadata": {},
   "outputs": [],
   "source": [
    "dataset.query('Bankrupt==1')['Q - Persistent EPS in the Last Four Seasons'].value_counts(normalize=True)"
   ]
  },
  {
   "cell_type": "markdown",
   "id": "d96c8baa",
   "metadata": {},
   "source": [
    "- 85 percent of bankrupted companies has this variable in first quantile\n",
    "- the quantile for \"good\" companies had a very distribution for each"
   ]
  },
  {
   "cell_type": "markdown",
   "id": "c89fe867",
   "metadata": {},
   "source": [
    "### Test model with this new variable"
   ]
  },
  {
   "cell_type": "markdown",
   "id": "350d83b9",
   "metadata": {},
   "source": [
    "#### X and y"
   ]
  },
  {
   "cell_type": "code",
   "execution_count": null,
   "id": "85a8123b",
   "metadata": {},
   "outputs": [],
   "source": [
    "X = dataset.drop(columns=['Bankrupt'])\n",
    "y = dataset['Bankrupt']"
   ]
  },
  {
   "cell_type": "markdown",
   "id": "2b884536",
   "metadata": {},
   "source": [
    "#### Test one"
   ]
  },
  {
   "cell_type": "code",
   "execution_count": null,
   "id": "741aa6d2",
   "metadata": {},
   "outputs": [],
   "source": [
    "#split data in train and test with different X\n",
    "X_train, X_test, y_train, y_test = train_test_split(X, y, stratify=y, train_size=0.8, random_state=666)\n",
    "\n",
    "#intance model\n",
    "cbc1 = CatBoostClassifier()\n",
    "\n",
    "#train model\n",
    "cbc1.fit(X_train, y_train, silent=True)\n",
    "y_predict = cbc1.predict(X_test)\n",
    "\n",
    "#check accuracy\n",
    "total_accuracy = accuracy_score(y_test, y_predict) * 100\n",
    "\n",
    "#create a DataFrame to count correct value predict for 1 in y_predict\n",
    "results = {'Test':y_test, 'Predict':y_predict}\n",
    "results = pd.DataFrame(results)\n",
    "results['OK'] = results['Test'] == results['Predict']\n",
    "bankrupt_accuracy = results.query('Predict==1 & OK==True').shape[0]\n",
    "bankrupt_total = results['Test'].sum()\n",
    "bankrupt_score = bankrupt_accuracy / bankrupt_total * 100\n",
    "\n",
    "#see results\n",
    "print(f'Total Accuracy - {total_accuracy:.2f}\\nBanrupt correct predicted - {bankrupt_accuracy}')\n",
    "print(f'Bankrupt Score - {bankrupt_score:.2f}')"
   ]
  },
  {
   "cell_type": "markdown",
   "id": "72202f40",
   "metadata": {},
   "source": [
    "- after this transformation, the result of model was worst them previous, but I thing if transform all variables in a new dataset the results must be better"
   ]
  },
  {
   "cell_type": "markdown",
   "id": "e1361ac1",
   "metadata": {},
   "source": [
    "### Transform all variables"
   ]
  },
  {
   "cell_type": "markdown",
   "id": "9a5b4c55",
   "metadata": {},
   "source": [
    "#### Function"
   ]
  },
  {
   "cell_type": "code",
   "execution_count": null,
   "id": "cbb6d150",
   "metadata": {},
   "outputs": [],
   "source": [
    "def quantile_column(dataset, column, name_column_output):\n",
    "    quantile_list = []\n",
    "    q4 = dataset[column].quantile(0.75)\n",
    "    q3 = dataset[column].quantile(0.50)\n",
    "    q2 = dataset[column].quantile(0.25)\n",
    "    for value in dataset[column]:\n",
    "        if value >= q4:\n",
    "            quantile_list.append(4)\n",
    "        elif value >= q3:\n",
    "            quantile_list.append(3)\n",
    "        elif value >= q2:\n",
    "            quantile_list.append(2)\n",
    "        else:\n",
    "            quantile_list.append(1)\n",
    "    dataset[name_column_output] = quantile_list\n",
    "    return dataset"
   ]
  },
  {
   "cell_type": "markdown",
   "id": "4123cf55",
   "metadata": {},
   "source": [
    "#### Create a new variables"
   ]
  },
  {
   "cell_type": "code",
   "execution_count": null,
   "id": "24032a1e",
   "metadata": {},
   "outputs": [],
   "source": [
    "#list with variables to convert\n",
    "columns = dataset.columns[:18]\n",
    "for column in columns:\n",
    "    quantile_column(dataset, column=column, name_column_output=f'Q - {column}')"
   ]
  },
  {
   "cell_type": "code",
   "execution_count": null,
   "id": "75510855",
   "metadata": {},
   "outputs": [],
   "source": [
    "#check results\n",
    "dataset.columns"
   ]
  },
  {
   "cell_type": "code",
   "execution_count": null,
   "id": "c1330f88",
   "metadata": {},
   "outputs": [],
   "source": [
    "#create a new DataFrame only with quantile variables\n",
    "q_dataset = dataset.drop(columns=columns)   #columns is an object above for iteration\n",
    "q_dataset"
   ]
  },
  {
   "cell_type": "code",
   "execution_count": null,
   "id": "700247fc",
   "metadata": {},
   "outputs": [],
   "source": [
    "#drop columns in the old dataset\n",
    "columns_to_drop = q_dataset.columns[1:]\n",
    "dataset.drop(columns=columns_to_drop, inplace=True)"
   ]
  },
  {
   "cell_type": "markdown",
   "id": "6b515e13",
   "metadata": {},
   "source": [
    "### Test model with quantiles"
   ]
  },
  {
   "cell_type": "markdown",
   "id": "c7d1e6c0",
   "metadata": {},
   "source": [
    "#### function for model"
   ]
  },
  {
   "cell_type": "code",
   "execution_count": null,
   "id": "4e2461ad",
   "metadata": {},
   "outputs": [],
   "source": [
    "def model_function(dataset):\n",
    "    #split dataset in X and Y\n",
    "    X = dataset.drop(columns=['Bankrupt'])\n",
    "    y = dataset['Bankrupt']\n",
    "    \n",
    "    #split data in train and test with different X\n",
    "    X_train, X_test, y_train, y_test = train_test_split(X, y, stratify=y, train_size=0.8, random_state=666)\n",
    "\n",
    "    #intance model\n",
    "    cbc = CatBoostClassifier()\n",
    "\n",
    "    #train model\n",
    "    cbc.fit(X_train, y_train, silent=True)\n",
    "    y_predict = cbc.predict(X_test)\n",
    "\n",
    "    #check accuracy\n",
    "    total_accuracy = accuracy_score(y_test, y_predict) * 100\n",
    "\n",
    "    #create a DataFrame to count correct value predict for 1 in y_predict\n",
    "    results = {'Test':y_test, 'Predict':y_predict}\n",
    "    results = pd.DataFrame(results)\n",
    "    results['OK'] = results['Test'] == results['Predict']\n",
    "    bankrupt_accuracy = results.query('Predict==1 & OK==True').shape[0]\n",
    "    bankrupt_total = results['Test'].sum()\n",
    "    bankrupt_score = bankrupt_accuracy / bankrupt_total * 100\n",
    "\n",
    "    #see results\n",
    "    print(f'Total Accuracy - {total_accuracy:.2f}\\nBanrupt correct predicted - {bankrupt_accuracy}')\n",
    "    print(f'Bankrupt Score - {bankrupt_score:.2f}')\n",
    "    \n",
    "    return cbc"
   ]
  },
  {
   "cell_type": "code",
   "execution_count": null,
   "id": "7d675fa1",
   "metadata": {},
   "outputs": [],
   "source": [
    "model_function(q_dataset)"
   ]
  },
  {
   "cell_type": "code",
   "execution_count": null,
   "id": "c38bfecf",
   "metadata": {},
   "outputs": [],
   "source": [
    "#see the distribution for each features compare Bankrupt 1 and 0\n",
    "fig, axes = plt.subplots(len(columns_to_drop), 2, figsize=(18,80))\n",
    "\n",
    "plot_line = 0\n",
    "plot_column = 0\n",
    "for column in columns_to_drop:\n",
    "    sns.distplot(q_dataset.query('Bankrupt==1')[column], bins=4, ax=axes[plot_line,plot_column]) \n",
    "    plot_column += 1\n",
    "    sns.distplot(q_dataset.query('Bankrupt==0')[column], bins=4, ax=axes[plot_line,plot_column])\n",
    "    plot_line += 1\n",
    "    plot_column = 0    "
   ]
  },
  {
   "cell_type": "markdown",
   "id": "bfbefd29",
   "metadata": {},
   "source": [
    "- the distribution for theses variables using quantile is different, but model did not understand that\n",
    "- I thing that: model is overfitted with Y variable equal 1, because there are a lot of that results in the taining data\n",
    "- let's check overfitting"
   ]
  },
  {
   "cell_type": "code",
   "execution_count": null,
   "id": "610bb996",
   "metadata": {},
   "outputs": [],
   "source": []
  }
 ],
 "metadata": {
  "kernelspec": {
   "display_name": "Python 3",
   "language": "python",
   "name": "python3"
  },
  "language_info": {
   "codemirror_mode": {
    "name": "ipython",
    "version": 3
   },
   "file_extension": ".py",
   "mimetype": "text/x-python",
   "name": "python",
   "nbconvert_exporter": "python",
   "pygments_lexer": "ipython3",
   "version": "3.7.9"
  }
 },
 "nbformat": 4,
 "nbformat_minor": 5
}
